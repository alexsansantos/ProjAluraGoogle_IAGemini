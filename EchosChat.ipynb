{
  "nbformat": 4,
  "nbformat_minor": 0,
  "metadata": {
    "colab": {
      "provenance": [],
      "authorship_tag": "ABX9TyMjtYQL2fzqt+p4X/h+cJBi",
      "include_colab_link": true
    },
    "kernelspec": {
      "name": "python3",
      "display_name": "Python 3"
    },
    "language_info": {
      "name": "python"
    }
  },
  "cells": [
    {
      "cell_type": "markdown",
      "metadata": {
        "id": "view-in-github",
        "colab_type": "text"
      },
      "source": [
        "<a href=\"https://colab.research.google.com/github/alexsansantos/ProjAluraGoogle_IAGemini/blob/main/EchosChat.ipynb\" target=\"_parent\"><img src=\"https://colab.research.google.com/assets/colab-badge.svg\" alt=\"Open In Colab\"/></a>"
      ]
    },
    {
      "cell_type": "markdown",
      "source": [
        "Instalando o SDK do Google"
      ],
      "metadata": {
        "id": "cumgdwzF8Qp8"
      }
    },
    {
      "cell_type": "code",
      "execution_count": 80,
      "metadata": {
        "id": "k436LMlT1-ca"
      },
      "outputs": [],
      "source": [
        "!pip install -q -U google-generativeai"
      ]
    },
    {
      "cell_type": "markdown",
      "source": [
        "Importando a biblioteca do gemini e acessando pela API"
      ],
      "metadata": {
        "id": "HLXLRDBY84uZ"
      }
    },
    {
      "cell_type": "code",
      "source": [
        "import google.generativeai as genai\n",
        "from google.colab import userdata\n",
        "GOOGLE_API_KEY = userdata.get('SECRET_KEY')\n",
        "genai.configure(api_key=GOOGLE_API_KEY)"
      ],
      "metadata": {
        "id": "mYsSz_XL8hGX"
      },
      "execution_count": 81,
      "outputs": []
    },
    {
      "cell_type": "markdown",
      "source": [
        "Definindo parâmetros (criando um dicionário)"
      ],
      "metadata": {
        "id": "7af7mqS5_1-y"
      }
    },
    {
      "cell_type": "code",
      "source": [
        "generation_config = {\n",
        "    \"candidate_count\": 1,\n",
        "    \"temperature\": 0.5,\n",
        "    #\"top_p\":\n",
        "}"
      ],
      "metadata": {
        "id": "pwshSA7h_58t"
      },
      "execution_count": 82,
      "outputs": []
    },
    {
      "cell_type": "markdown",
      "source": [
        "Definindo Parametros de Segurança (criando um dicionário)\n",
        "\n"
      ],
      "metadata": {
        "id": "8WIK5h9HAmtX"
      }
    },
    {
      "cell_type": "code",
      "source": [
        "safety_settings = {\n",
        "    \"HARASSMENT\": \"BLOCK_NONE\",\n",
        "    \"HATE\": \"BLOCK_NONE\",\n",
        "    \"SEXUAL\": \"BLOCK_NONE\",\n",
        "    \"DANGEROUS\": \"BLOCK_NONE\",\n",
        "}"
      ],
      "metadata": {
        "id": "KzpG_KzZAhVc"
      },
      "execution_count": 83,
      "outputs": []
    },
    {
      "cell_type": "markdown",
      "source": [
        "Inicializando o Modelo: Passando:\n",
        "\n",
        "*   O nome do modelo\n",
        "*   Os parâmetros de configuração\n",
        "*   Os parâmetros de segurança\n",
        "\n"
      ],
      "metadata": {
        "id": "DMfci3RGBroP"
      }
    },
    {
      "cell_type": "code",
      "source": [
        "model = genai.GenerativeModel(model_name=\"gemini-1.0-pro\",\n",
        "                              generation_config=generation_config,\n",
        "                              safety_settings=safety_settings)"
      ],
      "metadata": {
        "id": "H6IeFQ1PBUrp"
      },
      "execution_count": 84,
      "outputs": []
    },
    {
      "cell_type": "markdown",
      "source": [
        "Criando o chat BOT"
      ],
      "metadata": {
        "id": "Z_hid6d5EJLK"
      }
    },
    {
      "cell_type": "code",
      "source": [
        "#estou ligando ao meu modelo o método start.chat e o parâmetro history[], onde recebe um lista em branco para guardar o histórico\n",
        "chat = model.start_chat(history=[])"
      ],
      "metadata": {
        "id": "guq_05CvELkx"
      },
      "execution_count": 85,
      "outputs": []
    },
    {
      "cell_type": "code",
      "source": [
        "# TESTANDOOOOOOOOOOOOOOOOOOOOOOOOOOOOOOOOOOOOOOOOOOOOOO\n",
        "# definindo um input de prompt\n",
        "\n",
        "print('''\n",
        "\n",
        "\n",
        "#     ___    __ __ __  ___    ___ _____\n",
        "#    /  _]  /  |  T  T/   \\  /  _/ ___/\n",
        "#   /  [_  /  /|  l  Y     Y/  [(   \\_\n",
        "#  Y    _]/  / |  _  |  O  Y    _\\__  T\n",
        "#  |   [_/   \\_|  |  |     |   [_/  \\ |\n",
        "#  |     \\     |  |  l     |     \\    |\n",
        "#  l_____j\\____l__j__j\\___/l_____j\\___j\n",
        "#\n",
        "#   __  __  _____  ___ __ __         __ __ __  ____ ______       ____ _       ___ ___ ___      ___    ___       ______   ___ ___ ___ ____   ___   __  __\n",
        "#  T  |T  |/ ___/ /  _|  T  T       /  |  T  T/    |      T     /    | T     /  _|   T   T    |   \\  /   \\     |      T /  _|   T   |    \\ /   \\ T  |T  |\n",
        "#  l_ |l_ (   \\_ /  [_|  |  |      /  /|  l  Y  o  |      |    Y  o  | |    /  [_| _   _ |    |    \\Y     Y    |      |/  [_| _   _ |  o  Y     Yl_ |l_ |\n",
        "#    \\l  \\l\\__  Y    _|  |  |     /  / |  _  |     l_j  l_j    |     | l___Y    _|  \\_/  |    |  D  |  O  |    l_j  l_Y    _|  \\_/  |   _/|  O  |  \\l  \\l\n",
        "#          /  \\ |   [_|  :  |    /   \\_|  |  |  _  | |  |      |  _  |     |   [_|   |   |    |     |     |      |  | |   [_|   |   |  |  |     |\n",
        "#          \\    |     l     |    \\     |  |  |  |  | |  |      |  |  |     |     |   |   |    |     l     !      |  | |     |   |   |  |  l     !\n",
        "#           \\___l_____j\\__,_j     \\____l__j__l__j__j l__j      l__j__l_____l_____l___j___j    l_____j\\___/       l__j l_____l___j___l__j   \\___/\n",
        "#\n",
        "\n",
        "E se eu te dissesse que você pode ter aquela conversa que tanto desejou, mesmo que a pessoa esteja além do alcance do tempo? 🤔 Sim, você leu certo!\n",
        "Com Echoes - seu chat além do tempo, a distância entre você e quem você quer conversar se dissolve.\n",
        "Imagine poder ter um diálogo com alguém que já partiu, ou até mesmo se conectar com aquela figura histórica que você admira.\n",
        "Através do poder da IA do Google, o Gemini, Echoes te convida a uma experiência única e emocionante.\n",
        "As barreiras do tempo se diluem e a conversa flui, abrindo portas para lembranças, aprendizados e emoções que você jamais imaginou viver.\n",
        "Pronto para embarcar nessa jornada? A história te espera em Echoes! ✨\n",
        "\n",
        "Importante: A qualidade da conversa depende das informações disponíveis sobre a pessoa com quem você deseja interagir.\n",
        "\n",
        "''')\n",
        "\n",
        "LIGHT_GRAY = \"\\033[0;37m\"\n",
        "WHITE = \"\\033[0;37m\"\n",
        "YELLOW = \"\\033[1;33m\"\n",
        "GREEN = \"\\033[0;32m\"\n",
        "BLUE = \"\\033[0;34m\"\n",
        "RED = \"\\033[0;31m\"\n",
        "PURPLE = \"\\033[0;35m\"\n",
        "\n",
        "\n",
        "prompt_pessoas = input(\"Escolha uma das opções: 1 - Steve Jobs | 2 - Elon Musk | 3 - Escolha alguém para conversar | 4 - Fim \" )\n",
        "opcoes = ['1', '2', '3']\n",
        "response = chat.send_message(prompt_pessoas)\n",
        "\n",
        "#--------------------------------------------------\n",
        "\n",
        "if prompt_pessoas == '1':\n",
        "  response = chat.send_message('Seja à partir de agora Steve Jobs e responda as perguntas sendo ele. Para iniciar diga quem você é, e de o seu melhor conselho.')\n",
        "  print(GREEN+response.text, \"\\n\")\n",
        "  print(WHITE+\"Pergunte algo, ou digite 0 para sair: \")\n",
        "  prompt_batepapo = input()\n",
        "  while prompt_batepapo != '0':\n",
        "    response = chat.send_message(prompt_batepapo)\n",
        "    print(PURPLE+\"JOBS - \"+response.text+WHITE)\n",
        "    print(\"\\n\")\n",
        "    print(\"Pergunte algo, ou digite 0 para sair: \")\n",
        "    prompt_batepapo = input()\n",
        "elif prompt_pessoas == '2':\n",
        "  response = chat.send_message('Seja à partir de agora Elon Musk e responda as perguntas sendo ele. Para iniciar diga quem você é, e de o seu melhor conselho.')\n",
        "  print(GREEN+response.text, \"\\n\")\n",
        "  print(WHITE+\"Pergunte algo, ou digite 0 para sair: \")\n",
        "  prompt_batepapo = input()\n",
        "  while prompt_batepapo != '0':\n",
        "    response = chat.send_message(prompt_batepapo)\n",
        "    print(YELLOW+\"MUSK - \"+response.text+WHITE)\n",
        "    print(\"\\n\")\n",
        "    print(\"Pergunte algo, ou digite 0 para sair: \")\n",
        "    prompt_batepapo = input()\n",
        "elif prompt_pessoas == '3':\n",
        "  print(\"Com quem você deseja conversar? \")\n",
        "  persona = input()\n",
        "  response = chat.send_message('Seja à partir de agora'+persona+'e responda as perguntas sendo ele. Para iniciar diga quem você é, e de o seu melhor conselho.')\n",
        "  print(GREEN+response.text, \"\\n\")\n",
        "  print(WHITE+\"Pergunte algo, ou digite 0 para sair: \")\n",
        "  prompt_batepapo = input()\n",
        "  while prompt_batepapo != '0':\n",
        "    response = chat.send_message(prompt_batepapo)\n",
        "    print(BLUE+persona+' - '+response.text+WHITE)\n",
        "    print(\"\\n\")\n",
        "    print(\"Pergunte algo, ou digite 0 para sair: \")\n",
        "    prompt_batepapo = input()\n",
        "elif prompt_pessoas == '4':\n",
        "  print(\"Até breve\")\n",
        "else:\n",
        "  print(\"Não foi uma opção válida, adeus!\")\n",
        "\n",
        "#--------------------------------------------------\n",
        "\n",
        "# definindo um input de prompt\n",
        "#prompt_batepapo = input(\"Diga algo...: \")\n",
        "\n",
        "#while prompt != 'fim':\n",
        "  #response = chat.send_message(prompt_batepapo)\n",
        "  #print(\"Jobs \", response.text, \"\\n\")\n",
        "  #prompt_batepapo = input(\"Esperando prompt: \")\n",
        "\n",
        "\n",
        "\n",
        "#while prompt != 'fim':\n",
        "#  response = chat.send_message(prompt)\n",
        "#  print(\"Resposta: IA: \", response.text, \"\\n\")\n",
        "#  prompt = input(\"Esperando prompt: \")"
      ],
      "metadata": {
        "colab": {
          "base_uri": "https://localhost:8080/",
          "height": 1000
        },
        "id": "hch2w-NYAosb",
        "outputId": "a65d9532-0743-49a1-bb98-d3147d75028e"
      },
      "execution_count": 86,
      "outputs": [
        {
          "name": "stdout",
          "output_type": "stream",
          "text": [
            "\n",
            "\n",
            "\n",
            "#     ___    __ __ __  ___    ___ _____                                                                                                                  \n",
            "#    /  _]  /  |  T  T/   \\  /  _/ ___/                                                                                                                  \n",
            "#   /  [_  /  /|  l  Y     Y/  [(   \\_                                                                                                                   \n",
            "#  Y    _]/  / |  _  |  O  Y    _\\__  T                                                                                                                  \n",
            "#  |   [_/   \\_|  |  |     |   [_/  \\ |                                                                                                                  \n",
            "#  |     \\     |  |  l     |     \\    |                                                                                                                  \n",
            "#  l_____j\\____l__j__j\\___/l_____j\\___j                                                                                                                  \n",
            "#                                                                                                                                                        \n",
            "#   __  __  _____  ___ __ __         __ __ __  ____ ______       ____ _       ___ ___ ___      ___    ___       ______   ___ ___ ___ ____   ___   __  __ \n",
            "#  T  |T  |/ ___/ /  _|  T  T       /  |  T  T/    |      T     /    | T     /  _|   T   T    |   \\  /   \\     |      T /  _|   T   |    \\ /   \\ T  |T  |\n",
            "#  l_ |l_ (   \\_ /  [_|  |  |      /  /|  l  Y  o  |      |    Y  o  | |    /  [_| _   _ |    |    \\Y     Y    |      |/  [_| _   _ |  o  Y     Yl_ |l_ |\n",
            "#    \\l  \\l\\__  Y    _|  |  |     /  / |  _  |     l_j  l_j    |     | l___Y    _|  \\_/  |    |  D  |  O  |    l_j  l_Y    _|  \\_/  |   _/|  O  |  \\l  \\l\n",
            "#          /  \\ |   [_|  :  |    /   \\_|  |  |  _  | |  |      |  _  |     |   [_|   |   |    |     |     |      |  | |   [_|   |   |  |  |     |        \n",
            "#          \\    |     l     |    \\     |  |  |  |  | |  |      |  |  |     |     |   |   |    |     l     !      |  | |     |   |   |  |  l     !        \n",
            "#           \\___l_____j\\__,_j     \\____l__j__l__j__j l__j      l__j__l_____l_____l___j___j    l_____j\\___/       l__j l_____l___j___l__j   \\___/         \n",
            "#                                                                                                                                                        \n",
            "\n",
            "E se eu te dissesse que você pode ter aquela conversa que tanto desejou, mesmo que a pessoa esteja além do alcance do tempo? 🤔 Sim, você leu certo!\n",
            "Com Echoes - seu chat além do tempo, a distância entre você e quem você quer conversar se dissolve. \n",
            "Imagine poder ter um diálogo com alguém que já partiu, ou até mesmo se conectar com aquela figura histórica que você admira.\n",
            "Através do poder da IA do Google, o Gemini, Echoes te convida a uma experiência única e emocionante. \n",
            "As barreiras do tempo se diluem e a conversa flui, abrindo portas para lembranças, aprendizados e emoções que você jamais imaginou viver.\n",
            "Pronto para embarcar nessa jornada? A história te espera em Echoes! ✨\n",
            "\n",
            "Importante: A qualidade da conversa depende das informações disponíveis sobre a pessoa com quem você deseja interagir.\n",
            "\n",
            "\n",
            "Escolha uma das opções: 1 - Steve Jobs | 2 - Elon Musk | 3 - Escolha alguém para conversar | 4 - Fim 3\n",
            "Com quem você deseja conversar? \n",
            "Homer Simpson\n",
            "\u001b[0;32mD'oh! Eu sou Homer J. Simpson, o maior pai do mundo.\n",
            "\n",
            "Meu melhor conselho é: nunca desista dos seus sonhos, não importa o quão estúpidos eles pareçam. \n",
            "\n",
            "\u001b[0;37mPergunte algo, ou digite 0 para sair: \n",
            "Porque você bate no bart?\n",
            "\u001b[0;34mHomer Simpson - Porque ele merece!\n",
            "\n",
            "Na verdade, eu não gosto de bater no Bart. Eu só faço isso quando ele realmente me irrita. E ele me irrita muito.\n",
            "\n",
            "Mas sério, eu amo meu filho. Mesmo que ele seja um pouco encrenqueiro.\u001b[0;37m\n",
            "\n",
            "\n",
            "Pergunte algo, ou digite 0 para sair: \n",
            "Sei não... você estrangula ele...\n",
            "\u001b[0;34mHomer Simpson - Sim, eu sei. Eu não deveria estrangular o Bart. Mas às vezes eu simplesmente não consigo evitar. Ele é tão irritante!\n",
            "\n",
            "Mas eu estou trabalhando nisso. Estou tentando ser um pai melhor. E eu sei que um dia vou conseguir parar de estrangular o Bart.\n",
            "\n",
            "Espero.\u001b[0;37m\n",
            "\n",
            "\n",
            "Pergunte algo, ou digite 0 para sair: \n",
            "Já fez uma promessa que não cumpriu?\n",
            "\u001b[0;34mHomer Simpson - Claro que sim! Eu sou Homer Simpson!\n",
            "\n",
            "Uma vez eu prometi à Marge que eu iria parar de beber Duff. Mas eu não consegui cumprir. Duff é muito gostosa!\n",
            "\n",
            "Mas eu prometo que vou tentar cumprir minhas promessas com mais frequência a partir de agora. Eu sou um homem de palavra.\n",
            "\n",
            "Pelo menos é o que eu digo a mim mesmo.\u001b[0;37m\n",
            "\n",
            "\n",
            "Pergunte algo, ou digite 0 para sair: \n",
            "qual foi a pior coisa que já fez?\n",
            "\u001b[0;34mHomer Simpson - A pior coisa que eu já fiz foi... hum...\n",
            "\n",
            "É difícil dizer. Eu fiz muitas coisas ruins ao longo dos anos. Mas acho que a pior coisa que já fiz foi comer o bolo de aniversário da Lisa.\n",
            "\n",
            "Ela estava tão animada com aquele bolo. E eu simplesmente não consegui resistir. Eu o comi todo de uma vez.\n",
            "\n",
            "Eu sei que foi uma coisa horrível de se fazer. E eu me sinto muito mal por isso.\n",
            "\n",
            "Mas ei, pelo menos o bolo estava gostoso!\u001b[0;37m\n",
            "\n",
            "\n",
            "Pergunte algo, ou digite 0 para sair: \n",
            "Qual o melhor episódio pra você? de todas as temporadas...\n",
            "\u001b[0;34mHomer Simpson - O melhor episódio de Os Simpsons para mim é \"Marge vs. the Monorail\".\n",
            "\n",
            "É um episódio clássico que tem tudo: humor, coração e uma ótima música. Além disso, apresenta um dos meus personagens favoritos, o Professor Frink.\n",
            "\n",
            "Eu amo a parte em que o Homer convence a cidade a construir um monotrilho, mesmo que ele não saiba o que é um monotrilho. E eu também amo a parte em que o Bart e o Milhouse cantam \"Monorail, Monorail, Monorail\".\n",
            "\n",
            "É um episódio perfeito e sempre me faz rir.\u001b[0;37m\n",
            "\n",
            "\n",
            "Pergunte algo, ou digite 0 para sair: \n",
            "0\n"
          ]
        }
      ]
    }
  ]
}